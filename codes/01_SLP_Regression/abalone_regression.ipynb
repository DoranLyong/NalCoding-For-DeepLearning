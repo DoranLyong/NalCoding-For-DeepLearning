{
  "nbformat": 4,
  "nbformat_minor": 0,
  "metadata": {
    "colab": {
      "name": "abalone.ipynb",
      "provenance": [],
      "collapsed_sections": []
    },
    "kernelspec": {
      "name": "python3",
      "display_name": "Python 3"
    },
    "language_info": {
      "name": "python"
    }
  },
  "cells": [
    {
      "cell_type": "code",
      "metadata": {
        "id": "ls-tFHPE_P6h"
      },
      "source": [
        "from io import BytesIO  \n",
        "from urllib.request import urlopen \n",
        "from zipfile import ZipFile   # manipulate zip files on memory domain (ref) https://codesample-factory.tistory.com/1301\n",
        "\n",
        "zipurl = 'https://github.com/DoranLyong/NalCoding-For-DeepLearning/raw/main/codes/01_SLP_Regression/data/archive.zip'\n",
        "\n",
        "\n",
        "with urlopen(zipurl) as zipresp: \n",
        "    with ZipFile(BytesIO(zipresp.read())) as zfile: \n",
        "        zfile.extractall('./data')"
      ],
      "execution_count": 1,
      "outputs": []
    },
    {
      "cell_type": "markdown",
      "metadata": {
        "id": "lP2tW3e7W4wo"
      },
      "source": [
        "# 전복 고리 수 추정 신경망 (p.68)\n",
        "\n",
        "## 1. 구현하기 "
      ]
    },
    {
      "cell_type": "code",
      "metadata": {
        "id": "I3bjKOL_ByX4"
      },
      "source": [
        "import time \n",
        "import csv   # .csv 형태의 데이터셋을 읽어들이기 위함 \n",
        "\n",
        "import numpy as np\n",
        "\n",
        "np.random.seed(1234) # 시드고정 for Reproducibility"
      ],
      "execution_count": 2,
      "outputs": []
    },
    {
      "cell_type": "code",
      "metadata": {
        "id": "SGuqoel_XwJm"
      },
      "source": [
        "# === Hyperparameters 정의 === #\n",
        "\n",
        "# for init. weights \n",
        "RND_MEAN = 0 \n",
        "RND_STD = 3e-3\n",
        "\n",
        "# \n",
        "LEARNING_RATE = 1e-3"
      ],
      "execution_count": 3,
      "outputs": []
    },
    {
      "cell_type": "markdown",
      "metadata": {
        "id": "tlk6rzXxZMJg"
      },
      "source": [
        "#### 실험용 main() 함수 정의 \n",
        "* 실행 함수: `exec() `:"
      ]
    },
    {
      "cell_type": "code",
      "metadata": {
        "id": "aBiPhBRvYCjI"
      },
      "source": [
        "def exec(epochs=10, batch_size=10, report=1):\n",
        "    load_dataset() # 데이터셋 읽어들이기 \n",
        "    init_model()   # 모델 가중치 초기화 \n",
        "    train_and_test(epochs, batch_size, report)  # 학습 및 평가 수행 "
      ],
      "execution_count": 4,
      "outputs": []
    },
    {
      "cell_type": "markdown",
      "metadata": {
        "id": "Thw24l4tagbS"
      },
      "source": [
        "#### 데이터 적재 함수 정의 \n",
        "* 데이터셋 파일을 메모리(e.g., RAM)로 읽어들여주는 함수 정의 "
      ]
    },
    {
      "cell_type": "code",
      "metadata": {
        "id": "TzRYhP6baK93"
      },
      "source": [
        "def load_dataset(): \n",
        "    with open('./data/abalone.csv') as file: \n",
        "        csv_reader = csv.reader(file)  # .csv 파일 내용을 메모리로 읽어들임 \n",
        "        next(csv_reader, None) # 파일의 첫 행을 읽지 않고 건너뛰게 만듬 (p.72)\n",
        "        rows = [] \n",
        "        for row in csv_reader:\n",
        "            rows.append(row)  # 전복 인스턴스별 정보를 rows 리스트에 수집 \n",
        "    \n",
        "\n",
        "    global data, input_cnt, output_cnt\n",
        "    # === 입출력 사이즈 정의 === # \n",
        "    input_cnt = 10  # 입력 벡터 차원 수  \n",
        "    output_cnt = 1  # 출력 벡터 차원 수 \n",
        "    data = np.zeros([len(rows), input_cnt + output_cnt]) # 입출력 벡터 정보를 저장할 행렬\n",
        "\n",
        "    # === data 행렬에 정보 저장 (구조화) === #\n",
        "    for idx, row in enumerate(rows):\n",
        "        # one-hot 벡터 레이블링  \n",
        "        if row[0] == 'I': \n",
        "            data[idx, 0] = 1 \n",
        "        elif row[0] == 'M':\n",
        "            data[idx, 1] = 1 \n",
        "        elif row[0] == 'F':\n",
        "            data[idx, 2] = 1 \n",
        "\n",
        "        # 이외 항목들 일괄 복사 \n",
        "        data[idx, 3:] = row[1:]\n",
        "    "
      ],
      "execution_count": 5,
      "outputs": []
    },
    {
      "cell_type": "code",
      "metadata": {
        "colab": {
          "base_uri": "https://localhost:8080/",
          "height": 424
        },
        "id": "TWFqC96FbSQT",
        "outputId": "4c45c76e-88f1-4d81-8a70-6d9d0090c697"
      },
      "source": [
        "import pandas as pd \n",
        "\n",
        "pd.read_csv('./data/abalone.csv') # for check the data format"
      ],
      "execution_count": 6,
      "outputs": [
        {
          "output_type": "execute_result",
          "data": {
            "text/html": [
              "<div>\n",
              "<style scoped>\n",
              "    .dataframe tbody tr th:only-of-type {\n",
              "        vertical-align: middle;\n",
              "    }\n",
              "\n",
              "    .dataframe tbody tr th {\n",
              "        vertical-align: top;\n",
              "    }\n",
              "\n",
              "    .dataframe thead th {\n",
              "        text-align: right;\n",
              "    }\n",
              "</style>\n",
              "<table border=\"1\" class=\"dataframe\">\n",
              "  <thead>\n",
              "    <tr style=\"text-align: right;\">\n",
              "      <th></th>\n",
              "      <th>Sex</th>\n",
              "      <th>Length</th>\n",
              "      <th>Diameter</th>\n",
              "      <th>Height</th>\n",
              "      <th>Whole weight</th>\n",
              "      <th>Shucked weight</th>\n",
              "      <th>Viscera weight</th>\n",
              "      <th>Shell weight</th>\n",
              "      <th>Rings</th>\n",
              "    </tr>\n",
              "  </thead>\n",
              "  <tbody>\n",
              "    <tr>\n",
              "      <th>0</th>\n",
              "      <td>M</td>\n",
              "      <td>0.455</td>\n",
              "      <td>0.365</td>\n",
              "      <td>0.095</td>\n",
              "      <td>0.5140</td>\n",
              "      <td>0.2245</td>\n",
              "      <td>0.1010</td>\n",
              "      <td>0.1500</td>\n",
              "      <td>15</td>\n",
              "    </tr>\n",
              "    <tr>\n",
              "      <th>1</th>\n",
              "      <td>M</td>\n",
              "      <td>0.350</td>\n",
              "      <td>0.265</td>\n",
              "      <td>0.090</td>\n",
              "      <td>0.2255</td>\n",
              "      <td>0.0995</td>\n",
              "      <td>0.0485</td>\n",
              "      <td>0.0700</td>\n",
              "      <td>7</td>\n",
              "    </tr>\n",
              "    <tr>\n",
              "      <th>2</th>\n",
              "      <td>F</td>\n",
              "      <td>0.530</td>\n",
              "      <td>0.420</td>\n",
              "      <td>0.135</td>\n",
              "      <td>0.6770</td>\n",
              "      <td>0.2565</td>\n",
              "      <td>0.1415</td>\n",
              "      <td>0.2100</td>\n",
              "      <td>9</td>\n",
              "    </tr>\n",
              "    <tr>\n",
              "      <th>3</th>\n",
              "      <td>M</td>\n",
              "      <td>0.440</td>\n",
              "      <td>0.365</td>\n",
              "      <td>0.125</td>\n",
              "      <td>0.5160</td>\n",
              "      <td>0.2155</td>\n",
              "      <td>0.1140</td>\n",
              "      <td>0.1550</td>\n",
              "      <td>10</td>\n",
              "    </tr>\n",
              "    <tr>\n",
              "      <th>4</th>\n",
              "      <td>I</td>\n",
              "      <td>0.330</td>\n",
              "      <td>0.255</td>\n",
              "      <td>0.080</td>\n",
              "      <td>0.2050</td>\n",
              "      <td>0.0895</td>\n",
              "      <td>0.0395</td>\n",
              "      <td>0.0550</td>\n",
              "      <td>7</td>\n",
              "    </tr>\n",
              "    <tr>\n",
              "      <th>...</th>\n",
              "      <td>...</td>\n",
              "      <td>...</td>\n",
              "      <td>...</td>\n",
              "      <td>...</td>\n",
              "      <td>...</td>\n",
              "      <td>...</td>\n",
              "      <td>...</td>\n",
              "      <td>...</td>\n",
              "      <td>...</td>\n",
              "    </tr>\n",
              "    <tr>\n",
              "      <th>4172</th>\n",
              "      <td>F</td>\n",
              "      <td>0.565</td>\n",
              "      <td>0.450</td>\n",
              "      <td>0.165</td>\n",
              "      <td>0.8870</td>\n",
              "      <td>0.3700</td>\n",
              "      <td>0.2390</td>\n",
              "      <td>0.2490</td>\n",
              "      <td>11</td>\n",
              "    </tr>\n",
              "    <tr>\n",
              "      <th>4173</th>\n",
              "      <td>M</td>\n",
              "      <td>0.590</td>\n",
              "      <td>0.440</td>\n",
              "      <td>0.135</td>\n",
              "      <td>0.9660</td>\n",
              "      <td>0.4390</td>\n",
              "      <td>0.2145</td>\n",
              "      <td>0.2605</td>\n",
              "      <td>10</td>\n",
              "    </tr>\n",
              "    <tr>\n",
              "      <th>4174</th>\n",
              "      <td>M</td>\n",
              "      <td>0.600</td>\n",
              "      <td>0.475</td>\n",
              "      <td>0.205</td>\n",
              "      <td>1.1760</td>\n",
              "      <td>0.5255</td>\n",
              "      <td>0.2875</td>\n",
              "      <td>0.3080</td>\n",
              "      <td>9</td>\n",
              "    </tr>\n",
              "    <tr>\n",
              "      <th>4175</th>\n",
              "      <td>F</td>\n",
              "      <td>0.625</td>\n",
              "      <td>0.485</td>\n",
              "      <td>0.150</td>\n",
              "      <td>1.0945</td>\n",
              "      <td>0.5310</td>\n",
              "      <td>0.2610</td>\n",
              "      <td>0.2960</td>\n",
              "      <td>10</td>\n",
              "    </tr>\n",
              "    <tr>\n",
              "      <th>4176</th>\n",
              "      <td>M</td>\n",
              "      <td>0.710</td>\n",
              "      <td>0.555</td>\n",
              "      <td>0.195</td>\n",
              "      <td>1.9485</td>\n",
              "      <td>0.9455</td>\n",
              "      <td>0.3765</td>\n",
              "      <td>0.4950</td>\n",
              "      <td>12</td>\n",
              "    </tr>\n",
              "  </tbody>\n",
              "</table>\n",
              "<p>4177 rows × 9 columns</p>\n",
              "</div>"
            ],
            "text/plain": [
              "     Sex  Length  Diameter  ...  Viscera weight  Shell weight  Rings\n",
              "0      M   0.455     0.365  ...          0.1010        0.1500     15\n",
              "1      M   0.350     0.265  ...          0.0485        0.0700      7\n",
              "2      F   0.530     0.420  ...          0.1415        0.2100      9\n",
              "3      M   0.440     0.365  ...          0.1140        0.1550     10\n",
              "4      I   0.330     0.255  ...          0.0395        0.0550      7\n",
              "...   ..     ...       ...  ...             ...           ...    ...\n",
              "4172   F   0.565     0.450  ...          0.2390        0.2490     11\n",
              "4173   M   0.590     0.440  ...          0.2145        0.2605     10\n",
              "4174   M   0.600     0.475  ...          0.2875        0.3080      9\n",
              "4175   F   0.625     0.485  ...          0.2610        0.2960     10\n",
              "4176   M   0.710     0.555  ...          0.3765        0.4950     12\n",
              "\n",
              "[4177 rows x 9 columns]"
            ]
          },
          "metadata": {},
          "execution_count": 6
        }
      ]
    },
    {
      "cell_type": "markdown",
      "metadata": {
        "id": "YAg_fK1Nf41l"
      },
      "source": [
        "#### 모델 가중치 초기화 함수 정의 \n",
        "* `exec()` 함수에서 호출됨 "
      ]
    },
    {
      "cell_type": "code",
      "metadata": {
        "id": "kZFqf-6Ne_wg"
      },
      "source": [
        "def init_model():\n",
        "    global weight, bias, input_cnt, output_cnt  \n",
        "    \n",
        "    # === random init. === #\n",
        "    weight = np.random.normal(RND_MEAN, RND_STD,[input_cnt, output_cnt]) \n",
        "    bias = np.zeros([output_cnt])  # 학습 초기에 지나진 영향으로 역효과가 나지 않게 0으로 설정 "
      ],
      "execution_count": 7,
      "outputs": []
    },
    {
      "cell_type": "markdown",
      "metadata": {
        "id": "O0y-AV7lhnSB"
      },
      "source": [
        "#### 학습 및 평가 함수 정의 \n",
        "* 학습과 평가를 일괄 실행하는 함수"
      ]
    },
    {
      "cell_type": "code",
      "metadata": {
        "id": "UbM1Wq31gUZJ"
      },
      "source": [
        "def train_and_test(epochs:int, batch_size:int, report:int):\n",
        "\n",
        "    step_cnt = arrange_data(batch_size) # 데이터 shuffle & split 등의 데이터 정렬 작업  \n",
        "    test_x, test_y = get_test_data() \n",
        "\n",
        "    for epoch in range(epochs): \n",
        "        losses = []\n",
        "        accs = []\n",
        "\n",
        "        # === Train === # \n",
        "        for idx in range(step_cnt):\n",
        "            train_x, train_y = get_train_data(batch_size, idx)\n",
        "\n",
        "            loss, acc = run_train(train_x, train_y) \n",
        "            losses.append(loss)\n",
        "            accs.append(acc)\n",
        "\n",
        "        # === Validation === # \n",
        "        if report > 0 and (epoch+1) % report == 0:\n",
        "            acc = run_test(test_x, test_y)\n",
        "            \n",
        "            print(f\"Epoch={epoch+1}: \", \n",
        "                  f\"loss={np.mean(losses):5.3f},\",\n",
        "                  f\"accuracy={np.mean(accs):5.3f}/{acc:5.3f}\",\n",
        "                  )\n",
        "    \n",
        "    final_acc = run_test(test_x, test_y)\n",
        "    print(f\"\\nFinal Test: final_acc={final_acc:5.3f}\")            "
      ],
      "execution_count": 8,
      "outputs": []
    },
    {
      "cell_type": "markdown",
      "metadata": {
        "id": "XSV6-C-Uk1dM"
      },
      "source": [
        "#### 학습 및 평가 데이터 획득 함수 \n",
        "* `train_and_test()` 함수에서 호출됨 "
      ]
    },
    {
      "cell_type": "code",
      "metadata": {
        "id": "1JVz7m9pjsz5"
      },
      "source": [
        "def arrange_data(batch_size):\n",
        "    global data, shuffle_map, test_begin_idx\n",
        "    \n",
        "    shuffle_map = np.arange(data.shape[0]) # 데이터 인스턴스 개수만큼의 일련번호 생성 \n",
        "    np.random.shuffle(shuffle_map)  # 뒤섞기 \n",
        "\n",
        "    step_count = int(data.shape[0] * 0.8) // batch_size  # 8:2 로 split \n",
        "    test_begin_idx = step_count * batch_size\n",
        "    return step_count\n",
        "\n",
        "\n",
        "def get_test_data():\n",
        "    global data, shuffle_map, test_begin_idx, output_cnt\n",
        "\n",
        "    test_data = data[shuffle_map[test_begin_idx:]]  # arrange_data() 참고 \n",
        "\n",
        "    return test_data[:, :-output_cnt], test_data[:, -output_cnt:] # input, label \n",
        "\n",
        "\n",
        "def get_train_data(batch_size, nth):\n",
        "    global data, shuffle_map, test_begin_idx, output_cnt\n",
        "\n",
        "    if nth == 0:  # epoch 이 새로 시작할 때마다 데이터를 뒤섞음 \n",
        "        np.random.shuffle(shuffle_map[:test_begin_idx])\n",
        "\n",
        "    train_data = data[shuffle_map[batch_size*nth:batch_size*(nth+1)]]\n",
        "\n",
        "    return train_data[:, :-output_cnt], train_data[:, -output_cnt:]"
      ],
      "execution_count": 9,
      "outputs": []
    },
    {
      "cell_type": "markdown",
      "metadata": {
        "id": "kXfl6UxinBIN"
      },
      "source": [
        "#### 학습 실행 함수와 평가 실행 함수 \n",
        "* `train_and_test()` 함수에서 호출 "
      ]
    },
    {
      "cell_type": "code",
      "metadata": {
        "id": "oGyIhGkpl1IW"
      },
      "source": [
        "def run_train(x, y):\n",
        "    # === forward === # \n",
        "    output, aux_nn = forward_neuralnet(x)    # 순전파 진행 \n",
        "    loss, aux_pp = forward_postproc(output, y)  # 손실 함수 계산을 위한 후처리 \n",
        "    accuracy = eval_accuracy(output, y)\n",
        "    \n",
        "    # === backprop === # \n",
        "    G_loss = 1.0  # dL/dL = 1 \n",
        "    G_output = backprop_postproc(G_loss, aux_pp)  # 역전파 \n",
        "    backprop_neuralnet(G_output, aux_nn)   # step-up 수행 \n",
        "    \n",
        "    return loss, accuracy\n",
        "\n",
        "\n",
        "def run_test(x, y):\n",
        "    output, _ = forward_neuralnet(x)\n",
        "    accuracy = eval_accuracy(output, y)\n",
        "    return accuracy"
      ],
      "execution_count": 10,
      "outputs": []
    },
    {
      "cell_type": "markdown",
      "metadata": {
        "id": "16-jxhI8pSc_"
      },
      "source": [
        "#### SLP 에 대한 순전파 및 역전파 함수 정의 "
      ]
    },
    {
      "cell_type": "code",
      "metadata": {
        "id": "ZSow9uWGpLY9"
      },
      "source": [
        "def forward_neuralnet(x):\n",
        "    global weight, bias\n",
        "\n",
        "    output = np.matmul(x, weight) + bias  # Y = XW + b\n",
        "    return output, x\n",
        "\n",
        "\n",
        "# === 계산방법은 p.80 참고 === # \n",
        "def backprop_neuralnet(G_output, x):\n",
        "    \"\"\" G_output := 순전파 출력에 대한 손실 기울기 \n",
        "    \"\"\"\n",
        "    global weight, bias\n",
        "\n",
        "    g_output_w = x.transpose()\n",
        "    \n",
        "    G_w = np.matmul(g_output_w, G_output)\n",
        "    G_b = np.sum(G_output, axis=0)\n",
        "\n",
        "    # === step-up === # \n",
        "    weight -= LEARNING_RATE * G_w\n",
        "    bias -= LEARNING_RATE * G_b"
      ],
      "execution_count": 11,
      "outputs": []
    },
    {
      "cell_type": "markdown",
      "metadata": {
        "id": "Y7Tw2RXVv1Xs"
      },
      "source": [
        "#### 후처리 과정에 대한 순전파 및 역전파 함수 정의 \n",
        "* forward propagation에서 생성된 출력으로부터 손실 함수값을 구하는 과정 "
      ]
    },
    {
      "cell_type": "code",
      "metadata": {
        "id": "w5qSAcmxv5X_"
      },
      "source": [
        "def forward_postproc(output, y):\n",
        "    # === Loss function === # \n",
        "    # MSE 계산 \n",
        "    diff = output - y\n",
        "    square = np.square(diff)\n",
        "    loss = np.mean(square)\n",
        "    return loss, diff\n",
        "\n",
        "\n",
        "def backprop_postproc(G_loss, diff):\n",
        "    # === 기울기 도함수 계산 === \n",
        "    # 계산 방법 p.82 참고 \n",
        "    shape = diff.shape\n",
        "    \n",
        "    g_loss_square = np.ones(shape) / np.prod(shape)\n",
        "    g_square_diff = 2 * diff\n",
        "    g_diff_output = 1\n",
        "\n",
        "    G_square = g_loss_square * G_loss\n",
        "    G_diff = g_square_diff * G_square\n",
        "    G_output = g_diff_output * G_diff\n",
        "    \n",
        "    return G_output"
      ],
      "execution_count": 12,
      "outputs": []
    },
    {
      "cell_type": "code",
      "metadata": {
        "id": "mpAPBYjjxQSm"
      },
      "source": [
        "# 간략화된 버전 \n",
        "def backprop_postproc_oneline(G_loss, diff):\n",
        "    return 2 * diff / np.prob(diff.shape)"
      ],
      "execution_count": 13,
      "outputs": []
    },
    {
      "cell_type": "markdown",
      "metadata": {
        "id": "ojp3QeIV5fCu"
      },
      "source": [
        "#### 정확도 계산 함수 정의 "
      ]
    },
    {
      "cell_type": "code",
      "metadata": {
        "id": "klMUKAn55WgG"
      },
      "source": [
        "def eval_accuracy(output, y):\n",
        "    mdiff = np.mean(np.abs((output - y)/y)) # 평균 오류율 \n",
        "    return 1 - mdiff"
      ],
      "execution_count": 14,
      "outputs": []
    },
    {
      "cell_type": "markdown",
      "metadata": {
        "id": "lgX2Ejt356n2"
      },
      "source": [
        "***\n",
        "## 2. 실행하기 \n",
        "* 위에서 정의한 구현 프로그램을 실행해 동작 확인하기 "
      ]
    },
    {
      "cell_type": "code",
      "metadata": {
        "colab": {
          "base_uri": "https://localhost:8080/"
        },
        "id": "6gaZkGll5lfc",
        "outputId": "58a4bbaf-43c3-4211-ba23-0b74cca8faa5"
      },
      "source": [
        "exec()"
      ],
      "execution_count": 15,
      "outputs": [
        {
          "output_type": "stream",
          "name": "stdout",
          "text": [
            "Epoch=1:  loss=33.875, accuracy=0.557/0.812\n",
            "Epoch=2:  loss=8.226, accuracy=0.820/0.814\n",
            "Epoch=3:  loss=7.582, accuracy=0.812/0.809\n",
            "Epoch=4:  loss=7.475, accuracy=0.808/0.811\n",
            "Epoch=5:  loss=7.395, accuracy=0.810/0.809\n",
            "Epoch=6:  loss=7.328, accuracy=0.808/0.810\n",
            "Epoch=7:  loss=7.269, accuracy=0.808/0.811\n",
            "Epoch=8:  loss=7.217, accuracy=0.808/0.812\n",
            "Epoch=9:  loss=7.175, accuracy=0.810/0.810\n",
            "Epoch=10:  loss=7.135, accuracy=0.809/0.810\n",
            "\n",
            "Final Test: final_acc=0.810\n"
          ]
        }
      ]
    },
    {
      "cell_type": "markdown",
      "metadata": {
        "id": "FCj0fCSk7mBJ"
      },
      "source": [
        "학습된 파라미터값 확인 "
      ]
    },
    {
      "cell_type": "code",
      "metadata": {
        "colab": {
          "base_uri": "https://localhost:8080/"
        },
        "id": "oLzh6-st6eUn",
        "outputId": "6599adaa-f16c-479f-96eb-7a7378ff4f94"
      },
      "source": [
        "feature = ['유충 여부', '수컷 여부', '암컷 여부', \n",
        "           '키', '지름', '높이', '전체 무게', \n",
        "           '몸통 무게', '내장 무게', '껍질 무게',\n",
        "           ]\n",
        "\n",
        "for idx, item in enumerate(weight):\n",
        "    print(f\"{feature[idx]}: {item}\")\n"
      ],
      "execution_count": 16,
      "outputs": [
        {
          "output_type": "stream",
          "name": "stdout",
          "text": [
            "유충 여부: [1.02697603]\n",
            "수컷 여부: [1.47450981]\n",
            "암컷 여부: [1.66960135]\n",
            "키: [2.04468668]\n",
            "지름: [1.62513525]\n",
            "높이: [0.60292627]\n",
            "전체 무게: [2.39993815]\n",
            "몸통 무게: [0.54107313]\n",
            "내장 무게: [0.46878034]\n",
            "껍질 무게: [1.01969382]\n"
          ]
        }
      ]
    },
    {
      "cell_type": "code",
      "metadata": {
        "colab": {
          "base_uri": "https://localhost:8080/"
        },
        "id": "xkhR09LI7p9a",
        "outputId": "5b5cb4d6-0fef-40b1-b2f4-c92bf5760290"
      },
      "source": [
        "print(f'편향: {bias}')"
      ],
      "execution_count": 17,
      "outputs": [
        {
          "output_type": "stream",
          "name": "stdout",
          "text": [
            "편향: [4.16894769]\n"
          ]
        }
      ]
    },
    {
      "cell_type": "markdown",
      "metadata": {
        "id": "motZ3I6l8y1m"
      },
      "source": [
        "학습된 가중치 해석:\n",
        "* '전체 무게', '키' 정보가 나이 예측에 중요함 \n",
        "* '높이', '몸통 무게', '내장 무게'가 상대적으로 덜 중요함 "
      ]
    },
    {
      "cell_type": "markdown",
      "metadata": {
        "id": "aHgpZc9v9tI5"
      },
      "source": [
        "#### Hyperparameter 바꾸어서 실행하기"
      ]
    },
    {
      "cell_type": "code",
      "metadata": {
        "colab": {
          "base_uri": "https://localhost:8080/"
        },
        "id": "ML20cQaM8ZuE",
        "outputId": "e1792822-a40a-427e-b385-ad515660830e"
      },
      "source": [
        "LEARNING_RATE = 0.1\n",
        "exec(epochs=100, batch_size=100, report=20)"
      ],
      "execution_count": 20,
      "outputs": [
        {
          "output_type": "stream",
          "name": "stdout",
          "text": [
            "Epoch=20:  loss=5.804, accuracy=0.825/0.831\n",
            "Epoch=40:  loss=5.259, accuracy=0.834/0.828\n",
            "Epoch=60:  loss=5.056, accuracy=0.837/0.838\n",
            "Epoch=80:  loss=4.950, accuracy=0.838/0.840\n",
            "Epoch=100:  loss=4.910, accuracy=0.840/0.826\n",
            "\n",
            "Final Test: final_acc=0.826\n"
          ]
        }
      ]
    },
    {
      "cell_type": "code",
      "metadata": {
        "id": "t1O3KgTr9oPz"
      },
      "source": [
        ""
      ],
      "execution_count": null,
      "outputs": []
    }
  ]
}